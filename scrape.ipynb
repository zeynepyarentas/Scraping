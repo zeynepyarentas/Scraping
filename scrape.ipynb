{
 "cells": [
  {
   "cell_type": "markdown",
   "id": "b9d1adac-a182-406a-bc53-999bc5167c45",
   "metadata": {},
   "source": [
    "# Question1 : Using yfinance to extract Tesla Stock Data"
   ]
  },
  {
   "cell_type": "code",
   "execution_count": 13,
   "id": "334eaa4a-b96b-4472-a6e0-82f5a162814b",
   "metadata": {},
   "outputs": [
    {
     "data": {
      "text/html": [
       "<div>\n",
       "<style scoped>\n",
       "    .dataframe tbody tr th:only-of-type {\n",
       "        vertical-align: middle;\n",
       "    }\n",
       "\n",
       "    .dataframe tbody tr th {\n",
       "        vertical-align: top;\n",
       "    }\n",
       "\n",
       "    .dataframe thead th {\n",
       "        text-align: right;\n",
       "    }\n",
       "</style>\n",
       "<table border=\"1\" class=\"dataframe\">\n",
       "  <thead>\n",
       "    <tr style=\"text-align: right;\">\n",
       "      <th></th>\n",
       "      <th>Date</th>\n",
       "      <th>Open</th>\n",
       "      <th>High</th>\n",
       "      <th>Low</th>\n",
       "      <th>Close</th>\n",
       "      <th>Volume</th>\n",
       "      <th>Dividends</th>\n",
       "      <th>Stock Splits</th>\n",
       "    </tr>\n",
       "  </thead>\n",
       "  <tbody>\n",
       "    <tr>\n",
       "      <th>0</th>\n",
       "      <td>2010-06-29 00:00:00-04:00</td>\n",
       "      <td>1.266667</td>\n",
       "      <td>1.666667</td>\n",
       "      <td>1.169333</td>\n",
       "      <td>1.592667</td>\n",
       "      <td>281494500</td>\n",
       "      <td>0.0</td>\n",
       "      <td>0.0</td>\n",
       "    </tr>\n",
       "    <tr>\n",
       "      <th>1</th>\n",
       "      <td>2010-06-30 00:00:00-04:00</td>\n",
       "      <td>1.719333</td>\n",
       "      <td>2.028000</td>\n",
       "      <td>1.553333</td>\n",
       "      <td>1.588667</td>\n",
       "      <td>257806500</td>\n",
       "      <td>0.0</td>\n",
       "      <td>0.0</td>\n",
       "    </tr>\n",
       "    <tr>\n",
       "      <th>2</th>\n",
       "      <td>2010-07-01 00:00:00-04:00</td>\n",
       "      <td>1.666667</td>\n",
       "      <td>1.728000</td>\n",
       "      <td>1.351333</td>\n",
       "      <td>1.464000</td>\n",
       "      <td>123282000</td>\n",
       "      <td>0.0</td>\n",
       "      <td>0.0</td>\n",
       "    </tr>\n",
       "  </tbody>\n",
       "</table>\n",
       "</div>"
      ],
      "text/plain": [
       "                       Date      Open      High       Low     Close  \\\n",
       "0 2010-06-29 00:00:00-04:00  1.266667  1.666667  1.169333  1.592667   \n",
       "1 2010-06-30 00:00:00-04:00  1.719333  2.028000  1.553333  1.588667   \n",
       "2 2010-07-01 00:00:00-04:00  1.666667  1.728000  1.351333  1.464000   \n",
       "\n",
       "      Volume  Dividends  Stock Splits  \n",
       "0  281494500        0.0           0.0  \n",
       "1  257806500        0.0           0.0  \n",
       "2  123282000        0.0           0.0  "
      ]
     },
     "execution_count": 13,
     "metadata": {},
     "output_type": "execute_result"
    }
   ],
   "source": [
    "import yfinance as yf \n",
    "import warnings\n",
    "warnings.filterwarnings('ignore', category=FutureWarning)\n",
    "\n",
    "tesla_ticker = yf.Ticker('TSLA')\n",
    "tesla_hist = tesla_ticker.history(period='max')\n",
    "tesla_hist.reset_index(inplace=True)\n",
    "tesla_hist.head(3)"
   ]
  },
  {
   "cell_type": "markdown",
   "id": "1283da28-6d47-42e8-9b96-ab038866d563",
   "metadata": {},
   "source": [
    "# Question2 : Using webscraping to extract Tesla Stock Daata"
   ]
  },
  {
   "cell_type": "code",
   "execution_count": 95,
   "id": "0e9f2242-1f27-4f25-91c9-6f4e4541ad3c",
   "metadata": {},
   "outputs": [
    {
     "data": {
      "text/html": [
       "<div>\n",
       "<style scoped>\n",
       "    .dataframe tbody tr th:only-of-type {\n",
       "        vertical-align: middle;\n",
       "    }\n",
       "\n",
       "    .dataframe tbody tr th {\n",
       "        vertical-align: top;\n",
       "    }\n",
       "\n",
       "    .dataframe thead th {\n",
       "        text-align: right;\n",
       "    }\n",
       "</style>\n",
       "<table border=\"1\" class=\"dataframe\">\n",
       "  <thead>\n",
       "    <tr style=\"text-align: right;\">\n",
       "      <th></th>\n",
       "      <th>Date</th>\n",
       "      <th>Open</th>\n",
       "      <th>High</th>\n",
       "      <th>Low</th>\n",
       "      <th>Close</th>\n",
       "      <th>Volume</th>\n",
       "    </tr>\n",
       "  </thead>\n",
       "  <tbody>\n",
       "  </tbody>\n",
       "</table>\n",
       "</div>"
      ],
      "text/plain": [
       "Empty DataFrame\n",
       "Columns: [Date, Open, High, Low, Close, Volume]\n",
       "Index: []"
      ]
     },
     "execution_count": 95,
     "metadata": {},
     "output_type": "execute_result"
    }
   ],
   "source": [
    "import requests\n",
    "from bs4 import BeautifulSoup\n",
    "import pandas as pd\n",
    "\n",
    "# HTTPS REQUEST\n",
    "url = \"https://cf-courses-data.s3.us.cloud-object-storage.appdomain.cloud/IBMDeveloperSkillsNetwork-PY0220EN-SkillsNetwork/labs/project/revenue.htm\"\n",
    "data = requests.get(url)\n",
    "bsoup = BeautifulSoup(data.text,'html.parser')\n",
    "data_df = pd.DataFrame(columns=[\"Date\", \"Open\", \"High\", \"Low\", \"Close\", \"Volume\"])\n",
    "\n",
    "table = bsoup.find('table')\n",
    "for row in table.find(\"tbody\").find_all('tr'):\n",
    "    column = row.find_all(\"td\")\n",
    "    if len(column) >= 6:  # Ensure there are at least 6 columns (Date, Open, High, Low, Close, Volume)\n",
    "        Date = column[0].text\n",
    "        Open = column[1].text\n",
    "        High = column[2].text\n",
    "        Low = column[3].text\n",
    "        Close = column[4].text\n",
    "        Volume = column[5].text\n",
    "        # Append data to the DataFrame\n",
    "        data_df.append({\"Date\":Date, \"Open\":Open, \"High\":High, \"Low\":Low, \"Close\":Close, \"Volume\":Volume}, ignore_index=True)\n",
    "\n",
    "data_df.head(1)\n"
   ]
  },
  {
   "cell_type": "markdown",
   "id": "21237621-1109-4cae-810f-4bbff1d75e74",
   "metadata": {},
   "source": [
    "# Question3: Extracting GameStop Stock Data Using yfinance"
   ]
  },
  {
   "cell_type": "code",
   "execution_count": 97,
   "id": "f4624f2e-b27c-4000-912b-a2b5b1554508",
   "metadata": {},
   "outputs": [
    {
     "data": {
      "text/html": [
       "<div>\n",
       "<style scoped>\n",
       "    .dataframe tbody tr th:only-of-type {\n",
       "        vertical-align: middle;\n",
       "    }\n",
       "\n",
       "    .dataframe tbody tr th {\n",
       "        vertical-align: top;\n",
       "    }\n",
       "\n",
       "    .dataframe thead th {\n",
       "        text-align: right;\n",
       "    }\n",
       "</style>\n",
       "<table border=\"1\" class=\"dataframe\">\n",
       "  <thead>\n",
       "    <tr style=\"text-align: right;\">\n",
       "      <th></th>\n",
       "      <th>Date</th>\n",
       "      <th>Open</th>\n",
       "      <th>High</th>\n",
       "      <th>Low</th>\n",
       "      <th>Close</th>\n",
       "      <th>Volume</th>\n",
       "      <th>Dividends</th>\n",
       "      <th>Stock Splits</th>\n",
       "    </tr>\n",
       "  </thead>\n",
       "  <tbody>\n",
       "    <tr>\n",
       "      <th>0</th>\n",
       "      <td>2002-02-13 00:00:00-05:00</td>\n",
       "      <td>1.620128</td>\n",
       "      <td>1.693350</td>\n",
       "      <td>1.603296</td>\n",
       "      <td>1.691667</td>\n",
       "      <td>76216000</td>\n",
       "      <td>0.0</td>\n",
       "      <td>0.0</td>\n",
       "    </tr>\n",
       "    <tr>\n",
       "      <th>1</th>\n",
       "      <td>2002-02-14 00:00:00-05:00</td>\n",
       "      <td>1.712707</td>\n",
       "      <td>1.716073</td>\n",
       "      <td>1.670626</td>\n",
       "      <td>1.683250</td>\n",
       "      <td>11021600</td>\n",
       "      <td>0.0</td>\n",
       "      <td>0.0</td>\n",
       "    </tr>\n",
       "    <tr>\n",
       "      <th>2</th>\n",
       "      <td>2002-02-15 00:00:00-05:00</td>\n",
       "      <td>1.683251</td>\n",
       "      <td>1.687459</td>\n",
       "      <td>1.658002</td>\n",
       "      <td>1.674834</td>\n",
       "      <td>8389600</td>\n",
       "      <td>0.0</td>\n",
       "      <td>0.0</td>\n",
       "    </tr>\n",
       "  </tbody>\n",
       "</table>\n",
       "</div>"
      ],
      "text/plain": [
       "                       Date      Open      High       Low     Close    Volume  \\\n",
       "0 2002-02-13 00:00:00-05:00  1.620128  1.693350  1.603296  1.691667  76216000   \n",
       "1 2002-02-14 00:00:00-05:00  1.712707  1.716073  1.670626  1.683250  11021600   \n",
       "2 2002-02-15 00:00:00-05:00  1.683251  1.687459  1.658002  1.674834   8389600   \n",
       "\n",
       "   Dividends  Stock Splits  \n",
       "0        0.0           0.0  \n",
       "1        0.0           0.0  \n",
       "2        0.0           0.0  "
      ]
     },
     "execution_count": 97,
     "metadata": {},
     "output_type": "execute_result"
    }
   ],
   "source": [
    "import yfinance as yf \n",
    "import warnings\n",
    "warnings.filterwarnings('ignore', category=FutureWarning)\n",
    "\n",
    "game_ticker = yf.Ticker('GME')\n",
    "game_hist = game_ticker.history(period='max')\n",
    "game_hist.reset_index(inplace=True)\n",
    "game_hist.head(3)"
   ]
  },
  {
   "cell_type": "markdown",
   "id": "925757ce-5be4-4c9a-a04e-cc2f69a7b8bb",
   "metadata": {},
   "source": [
    "# Question4: Extracting GameStop Revenue Data Using Web Scraping"
   ]
  },
  {
   "cell_type": "code",
   "execution_count": 103,
   "id": "d41a088d-2839-44ff-b6a7-12655253647d",
   "metadata": {},
   "outputs": [
    {
     "data": {
      "text/html": [
       "<div>\n",
       "<style scoped>\n",
       "    .dataframe tbody tr th:only-of-type {\n",
       "        vertical-align: middle;\n",
       "    }\n",
       "\n",
       "    .dataframe tbody tr th {\n",
       "        vertical-align: top;\n",
       "    }\n",
       "\n",
       "    .dataframe thead th {\n",
       "        text-align: right;\n",
       "    }\n",
       "</style>\n",
       "<table border=\"1\" class=\"dataframe\">\n",
       "  <thead>\n",
       "    <tr style=\"text-align: right;\">\n",
       "      <th></th>\n",
       "      <th>Date</th>\n",
       "      <th>Open</th>\n",
       "      <th>High</th>\n",
       "      <th>Low</th>\n",
       "      <th>Close</th>\n",
       "      <th>Volume</th>\n",
       "    </tr>\n",
       "  </thead>\n",
       "  <tbody>\n",
       "  </tbody>\n",
       "</table>\n",
       "</div>"
      ],
      "text/plain": [
       "Empty DataFrame\n",
       "Columns: [Date, Open, High, Low, Close, Volume]\n",
       "Index: []"
      ]
     },
     "execution_count": 103,
     "metadata": {},
     "output_type": "execute_result"
    }
   ],
   "source": [
    "\n",
    "import requests\n",
    "from bs4 import BeautifulSoup\n",
    "import pandas as pd\n",
    "\n",
    "# HTTPS REQUEST\n",
    "url = \"https://cf-courses-data.s3.us.cloud-object-storage.appdomain.cloud/IBMDeveloperSkillsNetwork-PY0220EN-SkillsNetwork/labs/project/stock.html\"\n",
    "data = requests.get(url)\n",
    "bsoup = BeautifulSoup(data.text,'html.parser')\n",
    "data = pd.DataFrame(columns=[\"Date\", \"Open\", \"High\", \"Low\", \"Close\", \"Volume\"])\n",
    "\n",
    "table = bsoup.find('table')\n",
    "for row in table.find(\"tbody\").find_all('tr'):\n",
    "    column = row.find_all(\"td\")\n",
    "    if len(column) >= 6:  \n",
    "        Date = column[0].text\n",
    "        Open = column[1].text\n",
    "        High = column[2].text\n",
    "        Low = column[3].text\n",
    "        Close = column[4].text\n",
    "        Volume = column[5].text\n",
    "\n",
    "        data.append({\"Date\":Date, \"Open\":Open, \"High\":High, \"Low\":Low, \"Close\":Close, \"Volume\":Volume})\n",
    "\n",
    "data.head(1)\n"
   ]
  },
  {
   "cell_type": "markdown",
   "id": "dab6deeb-5354-4502-a14e-d2e9751b9fbe",
   "metadata": {},
   "source": [
    "# Question5: Tesla Stock and Revenue Indicator Table"
   ]
  },
  {
   "cell_type": "code",
   "execution_count": 108,
   "id": "9c0fbc71-800d-4777-a448-baf952fa813a",
   "metadata": {
    "collapsed": true,
    "jupyter": {
     "outputs_hidden": true
    }
   },
   "outputs": [
    {
     "name": "stdout",
     "output_type": "stream",
     "text": [
      "    Date  Revenue\n",
      "0   2021  $53,823\n",
      "1   2020  $31,536\n",
      "2   2019  $24,578\n",
      "3   2018  $21,461\n",
      "4   2017  $11,759\n",
      "5   2016   $7,000\n",
      "6   2015   $4,046\n",
      "7   2014   $3,198\n",
      "8   2013   $2,013\n",
      "9   2012     $413\n",
      "10  2011     $204\n",
      "11  2010     $117\n",
      "12  2009     $112\n"
     ]
    }
   ],
   "source": [
    "import requests\n",
    "from bs4 import BeautifulSoup\n",
    "import pandas as pd\n",
    "\n",
    "url = \"https://cf-courses-data.s3.us.cloud-object-storage.appdomain.cloud/IBMDeveloperSkillsNetwork-PY0220EN-SkillsNetwork/labs/project/revenue.htm\"\n",
    "response = requests.get(url)\n",
    "soup = BeautifulSoup(response.text, 'html.parser')\n",
    "\n",
    "table = soup.find_all('table', class_='historical_data_table')[0]\n",
    "\n",
    "dates = []\n",
    "revenues = []\n",
    "for row in table.find('tbody').find_all('tr'):\n",
    "    cols = row.find_all('td')\n",
    "    dates.append(cols[0].get_text())\n",
    "    revenues.append(cols[1].get_text())\n",
    "\n",
    "tesla_revenue = pd.DataFrame({\n",
    "    'Date': dates,\n",
    "    'Revenue': revenues\n",
    "})\n",
    "\n",
    "print(tesla_revenue)\n",
    "\n"
   ]
  }
 ],
 "metadata": {
  "kernelspec": {
   "display_name": "Python 3 (ipykernel)",
   "language": "python",
   "name": "python3"
  },
  "language_info": {
   "codemirror_mode": {
    "name": "ipython",
    "version": 3
   },
   "file_extension": ".py",
   "mimetype": "text/x-python",
   "name": "python",
   "nbconvert_exporter": "python",
   "pygments_lexer": "ipython3",
   "version": "3.10.13"
  }
 },
 "nbformat": 4,
 "nbformat_minor": 5
}
